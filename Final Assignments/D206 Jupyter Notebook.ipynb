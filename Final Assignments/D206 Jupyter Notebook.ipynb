{
 "cells": [
  {
   "cell_type": "markdown",
   "id": "4cbaf0fc",
   "metadata": {},
   "source": [
    "# Data Cleaning\n",
    "Ryan S. Russon\n",
    "ID: 010337779\n",
    "12/28/2023\n",
    "Western Governors University\n",
    " \n",
    "## Part I: Research Question\n",
    "\n",
    "### A. Research Question/Decision\n",
    "\n",
    "What factors contribute most to customer monthly charges in our telecom service? Understanding these factors and how they contribute to monthly customer charges can help develop strategies to improve business profits.\n",
    "\n",
    "### B. Description of Variables\n",
    "\n",
    "The dataset contains the following variables:\n",
    "\n",
    "* CaseOrder (Integer): Unique order number. 3.\n",
    "* Customer_id (String): Unique identifier for each customer. K409198.\n",
    "* Interaction (String): Identifier for customer interactions. Aa90260b-4141-4a24-8e36-b04ce1f4f77b.\n",
    "* City (String): Geographic location details. Point Baker.\n",
    "* State (String): Geographic location details. AK.\n",
    "* County (String): Geographic location details. Ogemaw.\n",
    "* Zip (Integer): Postal code. 99927.\n",
    "* Lat (Float): Latitude coordinates. 56.251.\n",
    "* Lng (Float): Longitude coordinates. -133.37571.\n",
    "* Population (Integer): Population in the customer's area. 10446.\n",
    "* Area (String): Type of area (Urban/Rural). Urban.\n",
    "* Timezone (String): Time zone of the customer's location. America/Sitka.\n",
    "* Job (String): Customer's occupation. Surveyor.\n",
    "* Children (Integer): Demographic details. 4.\n",
    "* Age (Integer): Demographic details. 68.\n",
    "* Education (String): Highest education achieved. Master’s Degree.\n",
    "* Income (Float): Demographic details. 28561.99.\n",
    "* Marital (String): Marital status. Widowed.\n",
    "* Gender (String): Gender. Male.\n",
    "* Churn (String): Whether the customer churned or not. No.\n",
    "* Outage_sec_perweek (Float): Average weekly outage duration in seconds. 10.2179.\n",
    "* Email (Integer): Contact’s email count. 10.\n",
    "* Contacts (Integer): Contact count. 3.\n",
    "* Yearly_equip_failure (Integer): Equipment failure details. 1.\n",
    "* Techie (String): Service-related data. Yes.\n",
    "* Contract (String): Contract length. One year.\n",
    "* Port_modem (String): Port option. Yes.\n",
    "* Tablet (String): Tablet use. Yes.\n",
    "* InternetService (String): Specific internet used. DSL.\n",
    "* Phone (String): Yes/No phone available. Yes.\n",
    "* Multiple (String): Yes/No. No.\n",
    "* OnlineSecurity (String): Service-related features. Yes.\n",
    "* OnlineBackup\t(String): Back-up availability. No.\n",
    "* DeviceProtection (String): Protection available. Yes.\n",
    "* TechSupport (String): Tech support is available. No.\n",
    "* StreamingTV (String): Streaming option. Yes.\n",
    "* StreamingMovies (String): Streaming (movie) option. No.\n",
    "* PaperlessBilling (String): Paperless billing. Yes.\n",
    "* PaymentMethod (String): Payment option. Credit Card.\n",
    "* Tenure\t(Float): Tenure or time as a member. 1.156681.\n",
    "* MonthlyCharge (Float): Monthly charge. 242.948.\n",
    "* Bandwidth_GB_Year (Float): Data used yearly. 1948.694.\n",
    "* item1 (Integer): Uknown item. 3.\n",
    "* item2 (Integer): Uknown item. 5.\n",
    "* item3 (Integer): Uknown item. 6. \n",
    "* item4 (Integer): Uknown item. 4.\n",
    "* item5 (Integer): Uknown item. 3.\n",
    "* item6 (Integer): Uknown item. 5.\n",
    "* item7 (Integer): Uknown item. 4.\n",
    "* item8 (Integer): Uknown item. 2.\n",
    "\n",
    "## Part II: Data-Cleaning Plan\n",
    "\n",
    "### C1. Methods for Detecting Data Quality Issues\n",
    "\n",
    "Duplicates: Use pandas.DataFrame.duplicated() to find duplicate rows. Finding duplicate data is crucial to ensure each data point is unique and avoid skewing the analysis.\n",
    "\n",
    "Missing Values: Employ pandas.DataFrame.isnull() or .isna() methods to identify missing values in the dataset. Visualizing missing data is essential for understanding the extent of the missing data.\n",
    "\n",
    "Outliers: For numerical data, we will be using IQR (Interquartile Range). Graphical methods like boxplots (using Matplotlib/Seaborn) are used to visualize these outliers.\n",
    "\n",
    "Re-expression of Categorical Variables: Examine categorical variables for inconsistencies using pandas.Series.value_counts(). For re-encoding medical condition variables, pandas.DataFrame.replace() or pandas.get_dummies() can be used for consistent encoding.\n",
    "\n",
    "### C2. Justification for Methods Used\n",
    "\n",
    "Duplicates: Detecting duplicates is crucial for data integrity. Duplicate entries can lead to erroneous analysis outcomes.\n",
    "\n",
    "Missing Values: Understanding the missing data pattern helps choose appropriate imputation techniques.\n",
    "\n",
    "Outliers: Outliers can significantly impact statistical analyses and model performance. Identifying them is crucial for robust data analysis.\n",
    "\n",
    "Re-expression of Categorical Variables: Ensuring consistent encoding of categorical variables is essential for accurate classification and analysis.\n",
    "\n",
    "### C3. Programming Language, Libraries, and Packages\n",
    "\n",
    "Python: Chosen for its simplicity, readability, and extensive ecosystem of data science libraries. It is particularly well-suited for data manipulation and analysis.\n",
    "\n",
    "Libraries and Packages:\n",
    "Pandas: For data manipulation and cleaning.\n",
    "NumPy: For numerical computations and specific data structuring.\n",
    "Matplotlib and Seaborn: For data visualization, it is crucial for outlier detection.\n",
    "Scipy: For statistical functions, such as computing Z-scores.\n",
    "\n",
    "Python's popularity and extensive community support make it a good choice for data-cleaning tasks. \n",
    "\n",
    "### C4. Detection Code and D4. Treatment Code\n",
    "\n",
    "#### Dataframe Creation"
   ]
  },
  {
   "cell_type": "code",
   "execution_count": 174,
   "id": "62892fb8",
   "metadata": {
    "scrolled": true
   },
   "outputs": [
    {
     "name": "stdout",
     "output_type": "stream",
     "text": [
      "<class 'pandas.core.frame.DataFrame'>\n",
      "RangeIndex: 10000 entries, 0 to 9999\n",
      "Data columns (total 52 columns):\n",
      " #   Column                Non-Null Count  Dtype  \n",
      "---  ------                --------------  -----  \n",
      " 0   Unnamed: 0            10000 non-null  int64  \n",
      " 1   CaseOrder             10000 non-null  int64  \n",
      " 2   Customer_id           10000 non-null  object \n",
      " 3   Interaction           10000 non-null  object \n",
      " 4   City                  10000 non-null  object \n",
      " 5   State                 10000 non-null  object \n",
      " 6   County                10000 non-null  object \n",
      " 7   Zip                   10000 non-null  int64  \n",
      " 8   Lat                   10000 non-null  float64\n",
      " 9   Lng                   10000 non-null  float64\n",
      " 10  Population            10000 non-null  int64  \n",
      " 11  Area                  10000 non-null  object \n",
      " 12  Timezone              10000 non-null  object \n",
      " 13  Job                   10000 non-null  object \n",
      " 14  Children              7505 non-null   float64\n",
      " 15  Age                   7525 non-null   float64\n",
      " 16  Education             10000 non-null  object \n",
      " 17  Employment            10000 non-null  object \n",
      " 18  Income                7510 non-null   float64\n",
      " 19  Marital               10000 non-null  object \n",
      " 20  Gender                10000 non-null  object \n",
      " 21  Churn                 10000 non-null  object \n",
      " 22  Outage_sec_perweek    10000 non-null  float64\n",
      " 23  Email                 10000 non-null  int64  \n",
      " 24  Contacts              10000 non-null  int64  \n",
      " 25  Yearly_equip_failure  10000 non-null  int64  \n",
      " 26  Techie                7523 non-null   object \n",
      " 27  Contract              10000 non-null  object \n",
      " 28  Port_modem            10000 non-null  object \n",
      " 29  Tablet                10000 non-null  object \n",
      " 30  InternetService       10000 non-null  object \n",
      " 31  Phone                 8974 non-null   object \n",
      " 32  Multiple              10000 non-null  object \n",
      " 33  OnlineSecurity        10000 non-null  object \n",
      " 34  OnlineBackup          10000 non-null  object \n",
      " 35  DeviceProtection      10000 non-null  object \n",
      " 36  TechSupport           9009 non-null   object \n",
      " 37  StreamingTV           10000 non-null  object \n",
      " 38  StreamingMovies       10000 non-null  object \n",
      " 39  PaperlessBilling      10000 non-null  object \n",
      " 40  PaymentMethod         10000 non-null  object \n",
      " 41  Tenure                9069 non-null   float64\n",
      " 42  MonthlyCharge         10000 non-null  float64\n",
      " 43  Bandwidth_GB_Year     8979 non-null   float64\n",
      " 44  item1                 10000 non-null  int64  \n",
      " 45  item2                 10000 non-null  int64  \n",
      " 46  item3                 10000 non-null  int64  \n",
      " 47  item4                 10000 non-null  int64  \n",
      " 48  item5                 10000 non-null  int64  \n",
      " 49  item6                 10000 non-null  int64  \n",
      " 50  item7                 10000 non-null  int64  \n",
      " 51  item8                 10000 non-null  int64  \n",
      "dtypes: float64(9), int64(15), object(28)\n",
      "memory usage: 4.0+ MB\n"
     ]
    }
   ],
   "source": [
    "import pandas as pd\n",
    "import numpy as np\n",
    "import matplotlib.pyplot as plt\n",
    "import seaborn as sns\n",
    "from scipy import stats\n",
    "from sklearn.decomposition import PCA\n",
    "from sklearn.preprocessing import StandardScaler\n",
    "\n",
    "df = pd.read_csv('C:/Users/Ryan/OneDrive/Desktop/WGU_Study/D206/Raw CSVs/churn_raw_data.csv')\n",
    "df.info()"
   ]
  },
  {
   "cell_type": "markdown",
   "id": "42103629",
   "metadata": {},
   "source": [
    "#### Duplicate Data Assessment and Treatment\n",
    "\n",
    "A quick look at the data will reveal that the only column duplications occur on the \"Unnamed: 0\" and the \"CaseOrder\" columns. \n",
    "\n",
    "As seen below:"
   ]
  },
  {
   "cell_type": "code",
   "execution_count": 175,
   "id": "b0fd9019",
   "metadata": {
    "scrolled": false
   },
   "outputs": [
    {
     "name": "stdout",
     "output_type": "stream",
     "text": [
      "      Unnamed: 0  CaseOrder Customer_id                           Interaction  \\\n",
      "0              1          1     K409198  aa90260b-4141-4a24-8e36-b04ce1f4f77b   \n",
      "1              2          2     S120509  fb76459f-c047-4a9d-8af9-e0f7d4ac2524   \n",
      "2              3          3     K191035  344d114c-3736-4be5-98f7-c72c281e2d35   \n",
      "3              4          4      D90850  abfa2b40-2d43-4994-b15a-989b8c79e311   \n",
      "4              5          5     K662701  68a861fd-0d20-4e51-a587-8a90407ee574   \n",
      "...          ...        ...         ...                                   ...   \n",
      "9995        9996       9996     M324793  45deb5a2-ae04-4518-bf0b-c82db8dbe4a4   \n",
      "9996        9997       9997     D861732  6e96b921-0c09-4993-bbda-a1ac6411061a   \n",
      "9997        9998       9998     I243405  e8307ddf-9a01-4fff-bc59-4742e03fd24f   \n",
      "9998        9999       9999     I641617  3775ccfc-0052-4107-81ae-9657f81ecdf3   \n",
      "9999       10000      10000      T38070  9de5fb6e-bd33-4995-aec8-f01d0172a499   \n",
      "\n",
      "              City State                 County    Zip       Lat        Lng  \\\n",
      "0      Point Baker    AK  Prince of Wales-Hyder  99927  56.25100 -133.37571   \n",
      "1      West Branch    MI                 Ogemaw  48661  44.32893  -84.24080   \n",
      "2          Yamhill    OR                Yamhill  97148  45.35589 -123.24657   \n",
      "3          Del Mar    CA              San Diego  92014  32.96687 -117.24798   \n",
      "4        Needville    TX              Fort Bend  77461  29.38012  -95.80673   \n",
      "...            ...   ...                    ...    ...       ...        ...   \n",
      "9995   Mount Holly    VT                Rutland   5758  43.43391  -72.78734   \n",
      "9996   Clarksville    TN             Montgomery  37042  36.56907  -87.41694   \n",
      "9997      Mobeetie    TX                Wheeler  79061  35.52039 -100.44180   \n",
      "9998    Carrollton    GA                Carroll  30117  33.58016  -85.13241   \n",
      "9999  Clarkesville    GA              Habersham  30523  34.70783  -83.53648   \n",
      "\n",
      "      ...  MonthlyCharge Bandwidth_GB_Year item1 item2  item3  item4 item5  \\\n",
      "0     ...     171.449762        904.536110     5     5      5      3     4   \n",
      "1     ...     242.948015        800.982766     3     4      3      3     4   \n",
      "2     ...     159.440398       2054.706961     4     4      2      4     4   \n",
      "3     ...     120.249493       2164.579412     4     4      4      2     5   \n",
      "4     ...     150.761216        271.493436     4     4      4      3     4   \n",
      "...   ...            ...               ...   ...   ...    ...    ...   ...   \n",
      "9995  ...     159.828800       6511.253000     3     2      3      3     4   \n",
      "9996  ...     208.856400       5695.952000     4     5      5      4     4   \n",
      "9997  ...     168.220900       4159.306000     4     4      4      4     4   \n",
      "9998  ...     252.628600       6468.457000     4     4      6      4     3   \n",
      "9999  ...     218.371000       5857.586000     2     2      3      3     3   \n",
      "\n",
      "     item6  item7 item8  \n",
      "0        4      3     4  \n",
      "1        3      4     4  \n",
      "2        3      3     3  \n",
      "3        4      3     3  \n",
      "4        4      4     5  \n",
      "...    ...    ...   ...  \n",
      "9995     3      2     3  \n",
      "9996     5      2     5  \n",
      "9997     4      4     5  \n",
      "9998     3      5     4  \n",
      "9999     3      4     1  \n",
      "\n",
      "[10000 rows x 52 columns]\n"
     ]
    }
   ],
   "source": [
    "print(df)"
   ]
  },
  {
   "cell_type": "markdown",
   "id": "ff5e45a8",
   "metadata": {},
   "source": [
    "To check this with pandas, you can do the following:\n",
    "\n",
    "Data Duplication:\n",
    "    df.duplicated() will create a boolean series where each element is true if a duplicate.\n",
    "    Placing this within df[] returns all the rows of data that are duplicates or True."
   ]
  },
  {
   "cell_type": "code",
   "execution_count": 176,
   "id": "be2d1932",
   "metadata": {
    "scrolled": false
   },
   "outputs": [
    {
     "data": {
      "text/html": [
       "<div>\n",
       "<style scoped>\n",
       "    .dataframe tbody tr th:only-of-type {\n",
       "        vertical-align: middle;\n",
       "    }\n",
       "\n",
       "    .dataframe tbody tr th {\n",
       "        vertical-align: top;\n",
       "    }\n",
       "\n",
       "    .dataframe thead th {\n",
       "        text-align: right;\n",
       "    }\n",
       "</style>\n",
       "<table border=\"1\" class=\"dataframe\">\n",
       "  <thead>\n",
       "    <tr style=\"text-align: right;\">\n",
       "      <th></th>\n",
       "      <th>Unnamed: 0</th>\n",
       "      <th>CaseOrder</th>\n",
       "      <th>Customer_id</th>\n",
       "      <th>Interaction</th>\n",
       "      <th>City</th>\n",
       "      <th>State</th>\n",
       "      <th>County</th>\n",
       "      <th>Zip</th>\n",
       "      <th>Lat</th>\n",
       "      <th>Lng</th>\n",
       "      <th>...</th>\n",
       "      <th>MonthlyCharge</th>\n",
       "      <th>Bandwidth_GB_Year</th>\n",
       "      <th>item1</th>\n",
       "      <th>item2</th>\n",
       "      <th>item3</th>\n",
       "      <th>item4</th>\n",
       "      <th>item5</th>\n",
       "      <th>item6</th>\n",
       "      <th>item7</th>\n",
       "      <th>item8</th>\n",
       "    </tr>\n",
       "  </thead>\n",
       "  <tbody>\n",
       "  </tbody>\n",
       "</table>\n",
       "<p>0 rows × 52 columns</p>\n",
       "</div>"
      ],
      "text/plain": [
       "Empty DataFrame\n",
       "Columns: [Unnamed: 0, CaseOrder, Customer_id, Interaction, City, State, County, Zip, Lat, Lng, Population, Area, Timezone, Job, Children, Age, Education, Employment, Income, Marital, Gender, Churn, Outage_sec_perweek, Email, Contacts, Yearly_equip_failure, Techie, Contract, Port_modem, Tablet, InternetService, Phone, Multiple, OnlineSecurity, OnlineBackup, DeviceProtection, TechSupport, StreamingTV, StreamingMovies, PaperlessBilling, PaymentMethod, Tenure, MonthlyCharge, Bandwidth_GB_Year, item1, item2, item3, item4, item5, item6, item7, item8]\n",
       "Index: []\n",
       "\n",
       "[0 rows x 52 columns]"
      ]
     },
     "execution_count": 176,
     "metadata": {},
     "output_type": "execute_result"
    }
   ],
   "source": [
    "df[df.duplicated()]"
   ]
  },
  {
   "cell_type": "markdown",
   "id": "c364f3aa",
   "metadata": {},
   "source": [
    "As you can see, this returns 0 rows. It is effectively telling us that there are 0 duplicate rows.\n",
    "\n",
    "Column Duplication:\n",
    "    df.columns returns an array of the column names.\n",
    "    Adding .duplicated() returns an array of booleans where there are duplicate column names.\n",
    "    .any() returns one boolean rather than an array."
   ]
  },
  {
   "cell_type": "code",
   "execution_count": 177,
   "id": "8f225a2a",
   "metadata": {
    "scrolled": true
   },
   "outputs": [
    {
     "data": {
      "text/plain": [
       "False"
      ]
     },
     "execution_count": 177,
     "metadata": {},
     "output_type": "execute_result"
    }
   ],
   "source": [
    "df.duplicated().any()"
   ]
  },
  {
   "cell_type": "markdown",
   "id": "266ef723",
   "metadata": {},
   "source": [
    "As you can see, this also returns False. This shows us that the rows themselves are not duplicates of themselves."
   ]
  },
  {
   "cell_type": "code",
   "execution_count": 178,
   "id": "9f7f86c8",
   "metadata": {},
   "outputs": [
    {
     "data": {
      "text/plain": [
       "False"
      ]
     },
     "execution_count": 178,
     "metadata": {},
     "output_type": "execute_result"
    }
   ],
   "source": [
    "df.columns.duplicated().any()"
   ]
  },
  {
   "cell_type": "markdown",
   "id": "038a44bc",
   "metadata": {},
   "source": [
    "As you can see, this returns False. Demonstrating that there are no column duplications."
   ]
  },
  {
   "cell_type": "markdown",
   "id": "b5a4436e",
   "metadata": {},
   "source": [
    "The only duplicate problem found was the Unnamed: 0 column, which duplicates the case order column. The Unnammed: 0 column will be removed. All other data was found not to be a duplicate and, therefore, did not need treatment."
   ]
  },
  {
   "cell_type": "code",
   "execution_count": 179,
   "id": "f9d52757",
   "metadata": {},
   "outputs": [
    {
     "name": "stdout",
     "output_type": "stream",
     "text": [
      "<class 'pandas.core.frame.DataFrame'>\n",
      "RangeIndex: 10000 entries, 0 to 9999\n",
      "Data columns (total 51 columns):\n",
      " #   Column                Non-Null Count  Dtype  \n",
      "---  ------                --------------  -----  \n",
      " 0   CaseOrder             10000 non-null  int64  \n",
      " 1   Customer_id           10000 non-null  object \n",
      " 2   Interaction           10000 non-null  object \n",
      " 3   City                  10000 non-null  object \n",
      " 4   State                 10000 non-null  object \n",
      " 5   County                10000 non-null  object \n",
      " 6   Zip                   10000 non-null  int64  \n",
      " 7   Lat                   10000 non-null  float64\n",
      " 8   Lng                   10000 non-null  float64\n",
      " 9   Population            10000 non-null  int64  \n",
      " 10  Area                  10000 non-null  object \n",
      " 11  Timezone              10000 non-null  object \n",
      " 12  Job                   10000 non-null  object \n",
      " 13  Children              7505 non-null   float64\n",
      " 14  Age                   7525 non-null   float64\n",
      " 15  Education             10000 non-null  object \n",
      " 16  Employment            10000 non-null  object \n",
      " 17  Income                7510 non-null   float64\n",
      " 18  Marital               10000 non-null  object \n",
      " 19  Gender                10000 non-null  object \n",
      " 20  Churn                 10000 non-null  object \n",
      " 21  Outage_sec_perweek    10000 non-null  float64\n",
      " 22  Email                 10000 non-null  int64  \n",
      " 23  Contacts              10000 non-null  int64  \n",
      " 24  Yearly_equip_failure  10000 non-null  int64  \n",
      " 25  Techie                7523 non-null   object \n",
      " 26  Contract              10000 non-null  object \n",
      " 27  Port_modem            10000 non-null  object \n",
      " 28  Tablet                10000 non-null  object \n",
      " 29  InternetService       10000 non-null  object \n",
      " 30  Phone                 8974 non-null   object \n",
      " 31  Multiple              10000 non-null  object \n",
      " 32  OnlineSecurity        10000 non-null  object \n",
      " 33  OnlineBackup          10000 non-null  object \n",
      " 34  DeviceProtection      10000 non-null  object \n",
      " 35  TechSupport           9009 non-null   object \n",
      " 36  StreamingTV           10000 non-null  object \n",
      " 37  StreamingMovies       10000 non-null  object \n",
      " 38  PaperlessBilling      10000 non-null  object \n",
      " 39  PaymentMethod         10000 non-null  object \n",
      " 40  Tenure                9069 non-null   float64\n",
      " 41  MonthlyCharge         10000 non-null  float64\n",
      " 42  Bandwidth_GB_Year     8979 non-null   float64\n",
      " 43  item1                 10000 non-null  int64  \n",
      " 44  item2                 10000 non-null  int64  \n",
      " 45  item3                 10000 non-null  int64  \n",
      " 46  item4                 10000 non-null  int64  \n",
      " 47  item5                 10000 non-null  int64  \n",
      " 48  item6                 10000 non-null  int64  \n",
      " 49  item7                 10000 non-null  int64  \n",
      " 50  item8                 10000 non-null  int64  \n",
      "dtypes: float64(9), int64(14), object(28)\n",
      "memory usage: 3.9+ MB\n"
     ]
    }
   ],
   "source": [
    "df = df.drop('Unnamed: 0', axis=1)\n",
    "df.info()"
   ]
  },
  {
   "cell_type": "markdown",
   "id": "1d94e9cf",
   "metadata": {},
   "source": [
    "#### Missing Data Assessment and Treatment"
   ]
  },
  {
   "cell_type": "code",
   "execution_count": 180,
   "id": "ded1103b",
   "metadata": {
    "scrolled": true
   },
   "outputs": [
    {
     "name": "stdout",
     "output_type": "stream",
     "text": [
      "CaseOrder                  0\n",
      "Customer_id                0\n",
      "Interaction                0\n",
      "City                       0\n",
      "State                      0\n",
      "County                     0\n",
      "Zip                        0\n",
      "Lat                        0\n",
      "Lng                        0\n",
      "Population                 0\n",
      "Area                       0\n",
      "Timezone                   0\n",
      "Job                        0\n",
      "Children                2495\n",
      "Age                     2475\n",
      "Education                  0\n",
      "Employment                 0\n",
      "Income                  2490\n",
      "Marital                    0\n",
      "Gender                     0\n",
      "Churn                      0\n",
      "Outage_sec_perweek         0\n",
      "Email                      0\n",
      "Contacts                   0\n",
      "Yearly_equip_failure       0\n",
      "Techie                  2477\n",
      "Contract                   0\n",
      "Port_modem                 0\n",
      "Tablet                     0\n",
      "InternetService            0\n",
      "Phone                   1026\n",
      "Multiple                   0\n",
      "OnlineSecurity             0\n",
      "OnlineBackup               0\n",
      "DeviceProtection           0\n",
      "TechSupport              991\n",
      "StreamingTV                0\n",
      "StreamingMovies            0\n",
      "PaperlessBilling           0\n",
      "PaymentMethod              0\n",
      "Tenure                   931\n",
      "MonthlyCharge              0\n",
      "Bandwidth_GB_Year       1021\n",
      "item1                      0\n",
      "item2                      0\n",
      "item3                      0\n",
      "item4                      0\n",
      "item5                      0\n",
      "item6                      0\n",
      "item7                      0\n",
      "item8                      0\n",
      "dtype: int64\n"
     ]
    }
   ],
   "source": [
    "missing_values = df.isnull()\n",
    "missing_sum = missing_values.sum()\n",
    "print(missing_sum)"
   ]
  },
  {
   "cell_type": "markdown",
   "id": "e304a323",
   "metadata": {},
   "source": [
    "As you can tell, there are plenty of missing values in the csv.\n",
    "\n",
    "Children, Age, Income, Techie, Phone, TechSupport, Tenure, and Bandwidth_GB_Year all have significant missing data.\n",
    "\n",
    "Here is a visualization of that missing data."
   ]
  },
  {
   "cell_type": "markdown",
   "id": "bfc028ab",
   "metadata": {},
   "source": [
    "##### Children Column"
   ]
  },
  {
   "cell_type": "code",
   "execution_count": 181,
   "id": "abc53b28",
   "metadata": {
    "scrolled": true
   },
   "outputs": [
    {
     "data": {
      "image/png": "[encoded data removed]",
      "text/plain": [
       "<Figure size 600x300 with 1 Axes>"
      ]
     },
     "metadata": {},
     "output_type": "display_data"
    },
    {
     "name": "stdout",
     "output_type": "stream",
     "text": [
      "The histogram is skewed; therefore, we will use the median for imputation.\n"
     ]
    }
   ],
   "source": [
    "plt.figure(figsize=(6,3))\n",
    "plt.hist(df['Children'])\n",
    "plt.title('Children')\n",
    "\n",
    "plt.show()\n",
    "print('The histogram is skewed; therefore, we will use the median for imputation.')"
   ]
  },
  {
   "cell_type": "code",
   "execution_count": 182,
   "id": "9a2ccc83",
   "metadata": {},
   "outputs": [
    {
     "name": "stdout",
     "output_type": "stream",
     "text": [
      "Current Children Missing Data: 0\n"
     ]
    }
   ],
   "source": [
    "median_children = df['Children'].median()\n",
    "df['Children'].fillna(median_children, inplace=True)\n",
    "print('Current Children Missing Data:', (10000 - df['Children'].value_counts().sum()))"
   ]
  },
  {
   "cell_type": "markdown",
   "id": "848da3fd",
   "metadata": {},
   "source": [
    "##### Age Column"
   ]
  },
  {
   "cell_type": "code",
   "execution_count": 183,
   "id": "0495784f",
   "metadata": {},
   "outputs": [
    {
     "data": {
      "image/png": "[encoded data removed]",
      "text/plain": [
       "<Figure size 600x300 with 1 Axes>"
      ]
     },
     "metadata": {},
     "output_type": "display_data"
    },
    {
     "name": "stdout",
     "output_type": "stream",
     "text": [
      "The histogram is almost universal therefore we will use mean for imputation.\n"
     ]
    }
   ],
   "source": [
    "plt.figure(figsize=(6,3))\n",
    "plt.hist(df['Age'])\n",
    "plt.title('Age')\n",
    "\n",
    "plt.show()\n",
    "print('The histogram is almost universal therefore we will use mean for imputation.')"
   ]
  },
  {
   "cell_type": "code",
   "execution_count": 184,
   "id": "8c3bb0cf",
   "metadata": {},
   "outputs": [
    {
     "name": "stdout",
     "output_type": "stream",
     "text": [
      "Current Age Missing Data: 0\n"
     ]
    }
   ],
   "source": [
    "mean_age = df['Age'].mean()\n",
    "df['Age'].fillna(mean_age, inplace=True)\n",
    "df['Age'] = df['Age'].astype(int)\n",
    "print('Current Age Missing Data:', (10000 - df['Age'].value_counts().sum()))"
   ]
  },
  {
   "cell_type": "markdown",
   "id": "e070037d",
   "metadata": {},
   "source": [
    "##### Income Column"
   ]
  },
  {
   "cell_type": "code",
   "execution_count": 185,
   "id": "a7fccdb2",
   "metadata": {
    "scrolled": false
   },
   "outputs": [
    {
     "data": {
      "image/png": "[encoded data removed]",
      "text/plain": [
       "<Figure size 600x300 with 1 Axes>"
      ]
     },
     "metadata": {},
     "output_type": "display_data"
    },
    {
     "name": "stdout",
     "output_type": "stream",
     "text": [
      "The histogram is skewed therefore we will use median for imputation.\n"
     ]
    }
   ],
   "source": [
    "plt.figure(figsize=(6,3))\n",
    "plt.hist(df['Income'])\n",
    "plt.title('Income')\n",
    "\n",
    "plt.show()\n",
    "print('The histogram is skewed therefore we will use median for imputation.')"
   ]
  },
  {
   "cell_type": "code",
   "execution_count": 186,
   "id": "8d3a5139",
   "metadata": {},
   "outputs": [
    {
     "name": "stdout",
     "output_type": "stream",
     "text": [
      "Current Income Missing Data: 0\n"
     ]
    }
   ],
   "source": [
    "median_income = df['Income'].median()\n",
    "df['Income'].fillna(median_income, inplace=True)\n",
    "print('Current Income Missing Data:', (10000 - df['Income'].value_counts().sum()))"
   ]
  },
  {
   "cell_type": "markdown",
   "id": "74508943",
   "metadata": {},
   "source": [
    "##### Techie Column"
   ]
  },
  {
   "cell_type": "code",
   "execution_count": 187,
   "id": "23bfaf9e",
   "metadata": {},
   "outputs": [
    {
     "name": "stdout",
     "output_type": "stream",
     "text": [
      "No     6266\n",
      "Yes    1257\n",
      "Name: Techie, dtype: int64\n",
      "Total Count: 7523\n"
     ]
    }
   ],
   "source": [
    "techie_counts = df['Techie'].value_counts()\n",
    "print(techie_counts)\n",
    "print('Total Count:', techie_counts.sum())"
   ]
  },
  {
   "cell_type": "markdown",
   "id": "01fb4488",
   "metadata": {},
   "source": [
    "Techie countains: 'No', 'Yes', and 'NA' for no data. For this reason we will be imputing the data with the mode which in this case is 'No'."
   ]
  },
  {
   "cell_type": "code",
   "execution_count": 188,
   "id": "c6cbf1e7",
   "metadata": {},
   "outputs": [
    {
     "name": "stdout",
     "output_type": "stream",
     "text": [
      "Current Techie Missing Data: 0\n"
     ]
    }
   ],
   "source": [
    "common_techie = df['Techie'].mode()[0]\n",
    "df['Techie'].fillna(common_techie, inplace=True)\n",
    "print('Current Techie Missing Data:', (10000 - df['Techie'].value_counts().sum()))"
   ]
  },
  {
   "cell_type": "markdown",
   "id": "600007fc",
   "metadata": {},
   "source": [
    "###### Phone Column"
   ]
  },
  {
   "cell_type": "code",
   "execution_count": 189,
   "id": "bcc1c0a2",
   "metadata": {},
   "outputs": [
    {
     "name": "stdout",
     "output_type": "stream",
     "text": [
      "Yes    8128\n",
      "No      846\n",
      "Name: Phone, dtype: int64\n",
      "Total Count: 8974\n"
     ]
    }
   ],
   "source": [
    "phone_counts = df['Phone'].value_counts()\n",
    "print(phone_counts)\n",
    "print('Total Count:', phone_counts.sum())"
   ]
  },
  {
   "cell_type": "markdown",
   "id": "e95b9927",
   "metadata": {},
   "source": [
    "Phone countains: 'No', 'Yes', and 'NA' for no data. For this reason we will be imputing the data with the mode which in this case is 'Yes'."
   ]
  },
  {
   "cell_type": "code",
   "execution_count": 190,
   "id": "218d66a6",
   "metadata": {},
   "outputs": [
    {
     "name": "stdout",
     "output_type": "stream",
     "text": [
      "Current Phone Missing Data: 0\n"
     ]
    }
   ],
   "source": [
    "common_phone = df['Phone'].mode()[0]\n",
    "df['Phone'].fillna(common_phone, inplace=True)\n",
    "print('Current Phone Missing Data:', (10000 - df['Phone'].value_counts().sum()))"
   ]
  },
  {
   "cell_type": "markdown",
   "id": "882c7ea4",
   "metadata": {},
   "source": [
    "##### TechSupport Column"
   ]
  },
  {
   "cell_type": "code",
   "execution_count": 191,
   "id": "6ff5a94e",
   "metadata": {},
   "outputs": [
    {
     "name": "stdout",
     "output_type": "stream",
     "text": [
      "No     5635\n",
      "Yes    3374\n",
      "Name: TechSupport, dtype: int64\n",
      "Total Count: 9009\n"
     ]
    }
   ],
   "source": [
    "support_counts = df['TechSupport'].value_counts()\n",
    "print(support_counts)\n",
    "print('Total Count:', support_counts.sum())"
   ]
  },
  {
   "cell_type": "markdown",
   "id": "52f702bb",
   "metadata": {},
   "source": [
    "TechSupport countains: 'No', 'Yes', and 'NA' for no data. For this reason we will be imputing the data with the mode which in this case is 'No'."
   ]
  },
  {
   "cell_type": "code",
   "execution_count": 192,
   "id": "74a4f1ab",
   "metadata": {},
   "outputs": [
    {
     "name": "stdout",
     "output_type": "stream",
     "text": [
      "Current TechSupport Missing Data: 0\n"
     ]
    }
   ],
   "source": [
    "common_support = df['TechSupport'].mode()[0]\n",
    "df['TechSupport'].fillna(common_support, inplace=True)\n",
    "print('Current TechSupport Missing Data:', (10000 - df['TechSupport'].value_counts().sum()))"
   ]
  },
  {
   "cell_type": "markdown",
   "id": "ada7e58d",
   "metadata": {},
   "source": [
    "##### Tenure Column"
   ]
  },
  {
   "cell_type": "code",
   "execution_count": 193,
   "id": "36cd7f07",
   "metadata": {},
   "outputs": [
    {
     "data": {
      "image/png": "[encoded data removed]",
      "text/plain": [
       "<Figure size 600x300 with 1 Axes>"
      ]
     },
     "metadata": {},
     "output_type": "display_data"
    },
    {
     "name": "stdout",
     "output_type": "stream",
     "text": [
      "The histogram is bimodal therefore we will use median for imputation.\n"
     ]
    }
   ],
   "source": [
    "plt.figure(figsize=(6,3))\n",
    "plt.hist(df['Tenure'])\n",
    "plt.title('Tenure')\n",
    "\n",
    "plt.show()\n",
    "print('The histogram is bimodal therefore we will use median for imputation.')"
   ]
  },
  {
   "cell_type": "code",
   "execution_count": 194,
   "id": "9a4b5704",
   "metadata": {},
   "outputs": [
    {
     "name": "stdout",
     "output_type": "stream",
     "text": [
      "Current Tenure Missing Data: 0\n"
     ]
    }
   ],
   "source": [
    "median_tenure = df['Tenure'].median()\n",
    "df['Tenure'].fillna(median_tenure, inplace=True)\n",
    "print('Current Tenure Missing Data:', (10000 - df['Tenure'].value_counts().sum()))"
   ]
  },
  {
   "cell_type": "markdown",
   "id": "eea0d8e1",
   "metadata": {},
   "source": [
    "##### Bandwidth_GB_Year Column"
   ]
  },
  {
   "cell_type": "code",
   "execution_count": 195,
   "id": "b06c0b93",
   "metadata": {},
   "outputs": [
    {
     "name": "stdout",
     "output_type": "stream",
     "text": [
      "5228.3700    2\n",
      "5932.6800    2\n",
      "5626.0940    2\n",
      "6261.4190    2\n",
      "6294.8450    2\n",
      "            ..\n",
      "1436.9460    1\n",
      "585.4873     1\n",
      "686.2609     1\n",
      "1684.4860    1\n",
      "5857.5860    1\n",
      "Name: Bandwidth_GB_Year, Length: 8972, dtype: int64\n"
     ]
    },
    {
     "data": {
      "image/png": "[encoded data removed]",
      "text/plain": [
       "<Figure size 600x300 with 1 Axes>"
      ]
     },
     "metadata": {},
     "output_type": "display_data"
    },
    {
     "name": "stdout",
     "output_type": "stream",
     "text": [
      "The histogram is bimodal therefore we will use median for imputation.\n"
     ]
    }
   ],
   "source": [
    "band_counts = df['Bandwidth_GB_Year'].value_counts()\n",
    "print(band_counts)\n",
    "\n",
    "plt.figure(figsize=(6,3))\n",
    "plt.hist(df['Bandwidth_GB_Year'])\n",
    "plt.title('Bandwidth_GB_Year')\n",
    "\n",
    "plt.show()\n",
    "print('The histogram is bimodal therefore we will use median for imputation.')"
   ]
  },
  {
   "cell_type": "code",
   "execution_count": 196,
   "id": "e103020e",
   "metadata": {},
   "outputs": [
    {
     "name": "stdout",
     "output_type": "stream",
     "text": [
      "Current Bandwidth_GB_Year Missing Data: 0\n"
     ]
    }
   ],
   "source": [
    "median_band = df['Bandwidth_GB_Year'].median()\n",
    "df['Bandwidth_GB_Year'].fillna(median_band, inplace=True)\n",
    "print('Current Bandwidth_GB_Year Missing Data:', (10000 - df['Bandwidth_GB_Year'].value_counts().sum()))"
   ]
  },
  {
   "cell_type": "markdown",
   "id": "cf769bf7",
   "metadata": {},
   "source": [
    "##### All Missing Data has been successfully treated:"
   ]
  },
  {
   "cell_type": "code",
   "execution_count": 197,
   "id": "c4fdfd07",
   "metadata": {},
   "outputs": [
    {
     "name": "stdout",
     "output_type": "stream",
     "text": [
      "<class 'pandas.core.frame.DataFrame'>\n",
      "RangeIndex: 10000 entries, 0 to 9999\n",
      "Data columns (total 51 columns):\n",
      " #   Column                Non-Null Count  Dtype  \n",
      "---  ------                --------------  -----  \n",
      " 0   CaseOrder             10000 non-null  int64  \n",
      " 1   Customer_id           10000 non-null  object \n",
      " 2   Interaction           10000 non-null  object \n",
      " 3   City                  10000 non-null  object \n",
      " 4   State                 10000 non-null  object \n",
      " 5   County                10000 non-null  object \n",
      " 6   Zip                   10000 non-null  int64  \n",
      " 7   Lat                   10000 non-null  float64\n",
      " 8   Lng                   10000 non-null  float64\n",
      " 9   Population            10000 non-null  int64  \n",
      " 10  Area                  10000 non-null  object \n",
      " 11  Timezone              10000 non-null  object \n",
      " 12  Job                   10000 non-null  object \n",
      " 13  Children              10000 non-null  float64\n",
      " 14  Age                   10000 non-null  int32  \n",
      " 15  Education             10000 non-null  object \n",
      " 16  Employment            10000 non-null  object \n",
      " 17  Income                10000 non-null  float64\n",
      " 18  Marital               10000 non-null  object \n",
      " 19  Gender                10000 non-null  object \n",
      " 20  Churn                 10000 non-null  object \n",
      " 21  Outage_sec_perweek    10000 non-null  float64\n",
      " 22  Email                 10000 non-null  int64  \n",
      " 23  Contacts              10000 non-null  int64  \n",
      " 24  Yearly_equip_failure  10000 non-null  int64  \n",
      " 25  Techie                10000 non-null  object \n",
      " 26  Contract              10000 non-null  object \n",
      " 27  Port_modem            10000 non-null  object \n",
      " 28  Tablet                10000 non-null  object \n",
      " 29  InternetService       10000 non-null  object \n",
      " 30  Phone                 10000 non-null  object \n",
      " 31  Multiple              10000 non-null  object \n",
      " 32  OnlineSecurity        10000 non-null  object \n",
      " 33  OnlineBackup          10000 non-null  object \n",
      " 34  DeviceProtection      10000 non-null  object \n",
      " 35  TechSupport           10000 non-null  object \n",
      " 36  StreamingTV           10000 non-null  object \n",
      " 37  StreamingMovies       10000 non-null  object \n",
      " 38  PaperlessBilling      10000 non-null  object \n",
      " 39  PaymentMethod         10000 non-null  object \n",
      " 40  Tenure                10000 non-null  float64\n",
      " 41  MonthlyCharge         10000 non-null  float64\n",
      " 42  Bandwidth_GB_Year     10000 non-null  float64\n",
      " 43  item1                 10000 non-null  int64  \n",
      " 44  item2                 10000 non-null  int64  \n",
      " 45  item3                 10000 non-null  int64  \n",
      " 46  item4                 10000 non-null  int64  \n",
      " 47  item5                 10000 non-null  int64  \n",
      " 48  item6                 10000 non-null  int64  \n",
      " 49  item7                 10000 non-null  int64  \n",
      " 50  item8                 10000 non-null  int64  \n",
      "dtypes: float64(8), int32(1), int64(14), object(28)\n",
      "memory usage: 3.9+ MB\n"
     ]
    }
   ],
   "source": [
    "df.info()"
   ]
  },
  {
   "cell_type": "markdown",
   "id": "a8ed5358",
   "metadata": {},
   "source": [
    "#### Outlier Data Assessment and Treatment\n",
    "\n",
    "Using Interquartile Range, and Boxplots:"
   ]
  },
  {
   "cell_type": "code",
   "execution_count": 198,
   "id": "05f08175",
   "metadata": {
    "scrolled": true
   },
   "outputs": [
    {
     "name": "stdout",
     "output_type": "stream",
     "text": [
      "Index(['CaseOrder', 'Zip', 'Lat', 'Lng', 'Population', 'Children', 'Age',\n",
      "       'Income', 'Outage_sec_perweek', 'Email', 'Contacts',\n",
      "       'Yearly_equip_failure', 'Tenure', 'MonthlyCharge', 'Bandwidth_GB_Year',\n",
      "       'item1', 'item2', 'item3', 'item4', 'item5', 'item6', 'item7', 'item8'],\n",
      "      dtype='object')\n"
     ]
    }
   ],
   "source": [
    "num_cols = df.select_dtypes(include=[np.number]).columns\n",
    "\n",
    "print(num_cols)"
   ]
  },
  {
   "cell_type": "code",
   "execution_count": 199,
   "id": "d010d90f",
   "metadata": {},
   "outputs": [],
   "source": [
    "bad_cols = ['CaseOrder', 'item1', 'item2', 'item3', 'item4', 'item5', 'item6', 'item7', 'item8', 'Zip', 'Lat', 'Lng']\n",
    "\n",
    "num_cols = list(set(num_cols) - set(bad_cols))"
   ]
  },
  {
   "cell_type": "code",
   "execution_count": 200,
   "id": "68dfe78f",
   "metadata": {
    "scrolled": true
   },
   "outputs": [
    {
     "name": "stdout",
     "output_type": "stream",
     "text": [
      "Total count of outliers:\n",
      "\n",
      " Outage_sec_perweek      539\n",
      "Income                  759\n",
      "Yearly_equip_failure     94\n",
      "Population              937\n",
      "MonthlyCharge             5\n",
      "Age                       0\n",
      "Tenure                    0\n",
      "Bandwidth_GB_Year         0\n",
      "Email                    38\n",
      "Contacts                  8\n",
      "Children                451\n",
      "dtype: int64 \n",
      "\n",
      "Min Values:\n",
      " Outage_sec_perweek          1.404440\n",
      "Income                  -9104.313750\n",
      "Yearly_equip_failure       -1.500000\n",
      "Population             -17907.000000\n",
      "MonthlyCharge              47.011534\n",
      "Age                         5.000000\n",
      "Tenure                    -68.479408\n",
      "Bandwidth_GB_Year       -4919.100532\n",
      "Email                       4.000000\n",
      "Contacts                   -3.000000\n",
      "Children                   -2.000000\n",
      "dtype: float64 \n",
      "\n",
      " Max Values:\n",
      " Outage_sec_perweek         19.137566\n",
      "Income                  78269.296250\n",
      "Yearly_equip_failure        2.500000\n",
      "Population              31813.000000\n",
      "MonthlyCharge             297.836986\n",
      "Age                       101.000000\n",
      "Tenure                    137.333225\n",
      "Bandwidth_GB_Year       11697.515519\n",
      "Email                      20.000000\n",
      "Contacts                    5.000000\n",
      "Children                    6.000000\n",
      "dtype: float64\n",
      "\n",
      "List of Columns with Outliers:\n",
      "\n",
      "Outage_sec_perweek\n",
      "Income\n",
      "Yearly_equip_failure\n",
      "Population\n",
      "MonthlyCharge\n",
      "Email\n",
      "Contacts\n",
      "Children\n"
     ]
    }
   ],
   "source": [
    "df_num = df[num_cols]\n",
    "Q1 = df_num.quantile(0.25)\n",
    "Q3 = df_num.quantile(0.75)\n",
    "IQR = Q3 - Q1\n",
    "minq = Q1 - 1.5 * IQR\n",
    "maxq = Q3 + 1.5 * IQR\n",
    "outliers_iqr = (df_num < minq) | (df_num > maxq)\n",
    "outliers_counts = outliers_iqr.sum()\n",
    "\n",
    "print('Total count of outliers:\\n\\n', outliers_counts, '\\n')\n",
    "print('Min Values:\\n', minq, '\\n\\n', 'Max Values:\\n', maxq)\n",
    "print('\\nList of Columns with Outliers:\\n')\n",
    "outlier_list = []\n",
    "for col, count in outliers_counts.items():\n",
    "    if count > 0:\n",
    "        outlier_list.append(col)\n",
    "        print(col)"
   ]
  },
  {
   "cell_type": "code",
   "execution_count": 201,
   "id": "8ccb7415",
   "metadata": {
    "scrolled": false
   },
   "outputs": [
    {
     "data": {
      "image/png": "[encoded data removed]",
      "text/plain": [
       "<Figure size 400x600 with 1 Axes>"
      ]
     },
     "metadata": {},
     "output_type": "display_data"
    },
    {
     "data": {
      "image/png": "[encoded data removed]",
      "text/plain": [
       "<Figure size 400x600 with 1 Axes>"
      ]
     },
     "metadata": {},
     "output_type": "display_data"
    },
    {
     "data": {
      "image/png": "[encoded data removed]",
      "text/plain": [
       "<Figure size 400x600 with 1 Axes>"
      ]
     },
     "metadata": {},
     "output_type": "display_data"
    },
    {
     "data": {
      "image/png": "[encoded data removed]",
      "text/plain": [
       "<Figure size 400x600 with 1 Axes>"
      ]
     },
     "metadata": {},
     "output_type": "display_data"
    },
    {
     "data": {
      "image/png": "[encoded data removed]",
      "text/plain": [
       "<Figure size 400x600 with 1 Axes>"
      ]
     },
     "metadata": {},
     "output_type": "display_data"
    },
    {
     "data": {
      "image/png": "[encoded data removed]",
      "text/plain": [
       "<Figure size 400x600 with 1 Axes>"
      ]
     },
     "metadata": {},
     "output_type": "display_data"
    },
    {
     "data": {
      "image/png": "[encoded data removed]",
      "text/plain": [
       "<Figure size 400x600 with 1 Axes>"
      ]
     },
     "metadata": {},
     "output_type": "display_data"
    },
    {
     "data": {
      "image/png": "[encoded data removed]",
      "text/plain": [
       "<Figure size 400x600 with 1 Axes>"
      ]
     },
     "metadata": {},
     "output_type": "display_data"
    },
    {
     "data": {
      "image/png": "[encoded data removed]",
      "text/plain": [
       "<Figure size 400x600 with 1 Axes>"
      ]
     },
     "metadata": {},
     "output_type": "display_data"
    },
    {
     "data": {
      "image/png": "[encoded data removed]",
      "text/plain": [
       "<Figure size 400x600 with 1 Axes>"
      ]
     },
     "metadata": {},
     "output_type": "display_data"
    },
    {
     "data": {
      "image/png": "[encoded data removed]",
      "text/plain": [
       "<Figure size 400x600 with 1 Axes>"
      ]
     },
     "metadata": {},
     "output_type": "display_data"
    }
   ],
   "source": [
    "for col in num_cols:\n",
    "    plt.figure(figsize=(4,6))\n",
    "    sns.boxplot(y=df[col])\n",
    "    plt.show()"
   ]
  },
  {
   "cell_type": "markdown",
   "id": "dc033795",
   "metadata": {},
   "source": [
    "These boxplot graphs show the individual interquartile ranges of each numerical column of data within the csv."
   ]
  },
  {
   "cell_type": "markdown",
   "id": "356b5863",
   "metadata": {},
   "source": [
    "##### Yearly_equip_failure Column"
   ]
  },
  {
   "cell_type": "code",
   "execution_count": 202,
   "id": "730f335c",
   "metadata": {},
   "outputs": [
    {
     "name": "stdout",
     "output_type": "stream",
     "text": [
      "<class 'pandas.core.series.Series'>\n",
      "RangeIndex: 10000 entries, 0 to 9999\n",
      "Series name: Yearly_equip_failure\n",
      "Non-Null Count  Dtype\n",
      "--------------  -----\n",
      "10000 non-null  int64\n",
      "dtypes: int64(1)\n",
      "memory usage: 78.3 KB\n",
      "\n",
      "\n",
      "<class 'pandas.core.series.Series'>\n",
      "RangeIndex: 10000 entries, 0 to 9999\n",
      "Series name: Yearly_equip_failure\n",
      "Non-Null Count  Dtype  \n",
      "--------------  -----  \n",
      "9906 non-null   float64\n",
      "dtypes: float64(1)\n",
      "memory usage: 78.3 KB\n"
     ]
    }
   ],
   "source": [
    "df['Yearly_equip_failure'].info()\n",
    "df['Yearly_equip_failure'] = np.where((df['Yearly_equip_failure'] < minq['Yearly_equip_failure']) | (df['Yearly_equip_failure'] > maxq['Yearly_equip_failure']), np.nan, df['Yearly_equip_failure'])\n",
    "print('\\n')\n",
    "df['Yearly_equip_failure'].info()"
   ]
  },
  {
   "cell_type": "code",
   "execution_count": 203,
   "id": "9682ee1c",
   "metadata": {},
   "outputs": [
    {
     "name": "stdout",
     "output_type": "stream",
     "text": [
      "<class 'pandas.core.series.Series'>\n",
      "RangeIndex: 10000 entries, 0 to 9999\n",
      "Series name: Yearly_equip_failure\n",
      "Non-Null Count  Dtype  \n",
      "--------------  -----  \n",
      "10000 non-null  float64\n",
      "dtypes: float64(1)\n",
      "memory usage: 78.3 KB\n"
     ]
    }
   ],
   "source": [
    "equip_median = df['Yearly_equip_failure'].median()\n",
    "df['Yearly_equip_failure'].fillna(equip_median, inplace=True)\n",
    "df['Yearly_equip_failure'].info()"
   ]
  },
  {
   "cell_type": "markdown",
   "id": "e62c0b70",
   "metadata": {},
   "source": [
    "##### Income Column"
   ]
  },
  {
   "cell_type": "code",
   "execution_count": 204,
   "id": "e6dd4c7e",
   "metadata": {
    "scrolled": true
   },
   "outputs": [
    {
     "name": "stdout",
     "output_type": "stream",
     "text": [
      "-9104.313749999994 78269.29624999998\n",
      "12       83671.08\n",
      "13      115114.57\n",
      "15       89061.45\n",
      "23       79699.62\n",
      "46      132116.33\n",
      "          ...    \n",
      "9900     80884.80\n",
      "9921    109058.00\n",
      "9922     89514.55\n",
      "9937     78958.46\n",
      "9987    102629.60\n",
      "Name: Income, Length: 759, dtype: float64\n"
     ]
    }
   ],
   "source": [
    "income_outliers = df[((df['Income'] < minq['Income']) | (df['Income'] > maxq['Income']))]\n",
    "print(minq['Income'], maxq['Income'])\n",
    "print(income_outliers['Income'])"
   ]
  },
  {
   "cell_type": "markdown",
   "id": "6b0a453c",
   "metadata": {},
   "source": [
    "##### Outage_sec_perweek Column"
   ]
  },
  {
   "cell_type": "code",
   "execution_count": 205,
   "id": "3084b718",
   "metadata": {},
   "outputs": [
    {
     "name": "stdout",
     "output_type": "stream",
     "text": [
      "1.404439566250005 19.137566056249995\n",
      "28      43.927052\n",
      "36      44.725202\n",
      "40      38.905335\n",
      "61      39.883903\n",
      "72      32.030945\n",
      "          ...    \n",
      "9895    40.684860\n",
      "9907    38.524730\n",
      "9945    39.337010\n",
      "9950    40.974290\n",
      "9980    30.732980\n",
      "Name: Outage_sec_perweek, Length: 539, dtype: float64\n"
     ]
    }
   ],
   "source": [
    "outage_outliers = df[((df['Outage_sec_perweek'] < minq['Outage_sec_perweek']) | (df['Outage_sec_perweek'] > maxq['Outage_sec_perweek']))]\n",
    "print(minq['Outage_sec_perweek'], maxq['Outage_sec_perweek'])\n",
    "print(outage_outliers['Outage_sec_perweek'])"
   ]
  },
  {
   "cell_type": "markdown",
   "id": "51ddfddc",
   "metadata": {},
   "source": [
    "##### Population Column"
   ]
  },
  {
   "cell_type": "code",
   "execution_count": 206,
   "id": "3108900b",
   "metadata": {},
   "outputs": [
    {
     "name": "stdout",
     "output_type": "stream",
     "text": [
      "-17907.0 31813.0\n",
      "11      33372\n",
      "16      50079\n",
      "29      52484\n",
      "44      35743\n",
      "51      39649\n",
      "        ...  \n",
      "9936    38703\n",
      "9979    32425\n",
      "9987    87509\n",
      "9996    77168\n",
      "9998    35575\n",
      "Name: Population, Length: 937, dtype: int64\n"
     ]
    }
   ],
   "source": [
    "population_outliers = df[((df['Population'] < minq['Population']) | (df['Population'] > maxq['Population']))]\n",
    "print(minq['Population'], maxq['Population'])\n",
    "print(population_outliers['Population'])"
   ]
  },
  {
   "cell_type": "markdown",
   "id": "0307ee37",
   "metadata": {},
   "source": [
    "#### Categorical Data Re-expressed Assessment and Treatment\n",
    "\n",
    "Verify that the values are accurately placed into a categorical datatype, and verify if the need for re-expression is present."
   ]
  },
  {
   "cell_type": "code",
   "execution_count": 207,
   "id": "2f042d11",
   "metadata": {
    "scrolled": true
   },
   "outputs": [
    {
     "name": "stdout",
     "output_type": "stream",
     "text": [
      "Suburban    3346\n",
      "Urban       3327\n",
      "Rural       3327\n",
      "Name: Area, dtype: int64 \n",
      "\n",
      "Month-to-month    5456\n",
      "Two Year          2442\n",
      "One year          2102\n",
      "Name: Contract, dtype: int64 \n",
      "\n",
      "3    3445\n",
      "4    3333\n",
      "2    1427\n",
      "5    1382\n",
      "6     210\n",
      "1     190\n",
      "7      12\n",
      "8       1\n",
      "Name: item6, dtype: int64 \n",
      "\n",
      "America/New_York                  4072\n",
      "America/Chicago                   3672\n",
      "America/Los_Angeles                887\n",
      "America/Denver                     552\n",
      "America/Detroit                    265\n",
      "America/Indiana/Indianapolis       186\n",
      "America/Phoenix                    104\n",
      "America/Boise                       57\n",
      "America/Anchorage                   55\n",
      "America/Puerto_Rico                 40\n",
      "Pacific/Honolulu                    35\n",
      "America/Menominee                   16\n",
      "America/Nome                        12\n",
      "America/Kentucky/Louisville         10\n",
      "America/Sitka                        8\n",
      "America/Indiana/Vincennes            6\n",
      "America/Indiana/Tell_City            6\n",
      "America/Toronto                      5\n",
      "America/Indiana/Petersburg           4\n",
      "America/Juneau                       2\n",
      "America/North_Dakota/New_Salem       2\n",
      "America/Indiana/Knox                 1\n",
      "America/Indiana/Winamac              1\n",
      "America/Indiana/Marengo              1\n",
      "America/Ojinaga                      1\n",
      "Name: Timezone, dtype: int64 \n",
      "\n",
      "Female                  5025\n",
      "Male                    4744\n",
      "Prefer not to answer     231\n",
      "Name: Gender, dtype: int64 \n",
      "\n",
      "Occupational psychologist               30\n",
      "Comptroller                             28\n",
      "Hospital pharmacist                     28\n",
      "Horticultural therapist                 28\n",
      "Ranger/warden                           27\n",
      "                                        ..\n",
      "Control and instrumentation engineer     6\n",
      "Travel agency manager                    6\n",
      "Accountant, chartered certified          6\n",
      "Arboriculturist                          6\n",
      "Toxicologist                             6\n",
      "Name: Job, Length: 639, dtype: int64 \n",
      "\n",
      "No     5614\n",
      "Yes    4386\n",
      "Name: DeviceProtection, dtype: int64 \n",
      "\n",
      "Yes    5882\n",
      "No     4118\n",
      "Name: PaperlessBilling, dtype: int64 \n",
      "\n",
      "No     8743\n",
      "Yes    1257\n",
      "Name: Techie, dtype: int64 \n",
      "\n",
      "No     5110\n",
      "Yes    4890\n",
      "Name: StreamingMovies, dtype: int64 \n",
      "\n",
      "Electronic Check            3398\n",
      "Mailed Check                2290\n",
      "Bank Transfer(automatic)    2229\n",
      "Credit Card (automatic)     2083\n",
      "Name: PaymentMethod, dtype: int64 \n",
      "\n",
      "No     5392\n",
      "Yes    4608\n",
      "Name: Multiple, dtype: int64 \n",
      "\n",
      "No     6424\n",
      "Yes    3576\n",
      "Name: OnlineSecurity, dtype: int64 \n",
      "\n",
      "Fiber Optic    4408\n",
      "DSL            3463\n",
      "None           2129\n",
      "Name: InternetService, dtype: int64 \n",
      "\n",
      "No     7350\n",
      "Yes    2650\n",
      "Name: Churn, dtype: int64 \n",
      "\n",
      "No     5071\n",
      "Yes    4929\n",
      "Name: StreamingTV, dtype: int64 \n",
      "\n",
      "No     7009\n",
      "Yes    2991\n",
      "Name: Tablet, dtype: int64 \n",
      "\n",
      "4    3456\n",
      "3    3446\n",
      "5    1335\n",
      "2    1309\n",
      "6     224\n",
      "1     219\n",
      "7      11\n",
      "Name: item7, dtype: int64 \n",
      "\n",
      "TX    603\n",
      "NY    558\n",
      "PA    550\n",
      "CA    526\n",
      "IL    413\n",
      "OH    359\n",
      "FL    324\n",
      "MO    310\n",
      "VA    285\n",
      "NC    280\n",
      "IA    279\n",
      "MI    279\n",
      "MN    264\n",
      "WV    247\n",
      "IN    241\n",
      "GA    238\n",
      "KY    238\n",
      "WI    228\n",
      "OK    203\n",
      "KS    195\n",
      "NJ    190\n",
      "TN    185\n",
      "AL    181\n",
      "NE    181\n",
      "AR    176\n",
      "WA    175\n",
      "MA    172\n",
      "CO    155\n",
      "LA    141\n",
      "MS    126\n",
      "SC    124\n",
      "MD    123\n",
      "ND    118\n",
      "NM    114\n",
      "OR    114\n",
      "AZ    112\n",
      "ME    112\n",
      "SD    101\n",
      "MT     96\n",
      "NH     85\n",
      "VT     84\n",
      "ID     81\n",
      "AK     77\n",
      "CT     71\n",
      "UT     66\n",
      "NV     48\n",
      "WY     43\n",
      "PR     40\n",
      "HI     35\n",
      "DE     21\n",
      "RI     19\n",
      "DC     14\n",
      "Name: State, dtype: int64 \n",
      "\n",
      "3    3461\n",
      "4    3400\n",
      "2    1378\n",
      "5    1335\n",
      "1     206\n",
      "6     205\n",
      "7      14\n",
      "8       1\n",
      "Name: item8, dtype: int64 \n",
      "\n",
      "No     6626\n",
      "Yes    3374\n",
      "Name: TechSupport, dtype: int64 \n",
      "\n",
      "Houston         34\n",
      "New York        24\n",
      "Springfield     23\n",
      "Buffalo         23\n",
      "San Antonio     22\n",
      "                ..\n",
      "Cottontown       1\n",
      "San Dimas        1\n",
      "Fort Hill        1\n",
      "Webster          1\n",
      "Clarkesville     1\n",
      "Name: City, Length: 6058, dtype: int64 \n",
      "\n",
      "40.88228    4\n",
      "41.10660    4\n",
      "33.07885    4\n",
      "34.50111    4\n",
      "42.62422    4\n",
      "           ..\n",
      "40.41087    1\n",
      "39.80226    1\n",
      "47.18203    1\n",
      "42.97410    1\n",
      "34.70783    1\n",
      "Name: Lat, Length: 8563, dtype: int64 \n",
      "\n",
      "Divorced         2092\n",
      "Widowed          2027\n",
      "Separated        2014\n",
      "Never Married    1956\n",
      "Married          1911\n",
      "Name: Marital, dtype: int64 \n",
      "\n",
      "3    3415\n",
      "4    3412\n",
      "5    1368\n",
      "2    1360\n",
      "1     217\n",
      "6     215\n",
      "7      13\n",
      "Name: item2, dtype: int64 \n",
      "\n",
      "1        1\n",
      "6671     1\n",
      "6664     1\n",
      "6665     1\n",
      "6666     1\n",
      "        ..\n",
      "3334     1\n",
      "3335     1\n",
      "3336     1\n",
      "3337     1\n",
      "10000    1\n",
      "Name: CaseOrder, Length: 10000, dtype: int64 \n",
      "\n",
      "aa90260b-4141-4a24-8e36-b04ce1f4f77b    1\n",
      "26769b47-8eda-4e14-9baf-7348b64b7da3    1\n",
      "6d65ca83-1001-4d01-a3f9-c3ae5ac33a83    1\n",
      "448944cf-10f6-4a04-a8e0-4079b6791e26    1\n",
      "a9890702-06c6-4337-9d5b-65f7d1e30466    1\n",
      "                                       ..\n",
      "c650b63b-2d68-48f2-911d-6e8c838c8185    1\n",
      "3006986f-69e9-4c80-8dcb-1f8d917f2071    1\n",
      "0e3b8690-177a-4bce-a4e9-823682ce8aec    1\n",
      "25400298-b615-407d-9e79-25fb89b38429    1\n",
      "9de5fb6e-bd33-4995-aec8-f01d0172a499    1\n",
      "Name: Interaction, Length: 10000, dtype: int64 \n",
      "\n",
      "Washington     111\n",
      "Jefferson      100\n",
      "Montgomery      99\n",
      "Franklin        92\n",
      "Los Angeles     91\n",
      "              ... \n",
      "Rooks            1\n",
      "Cochise          1\n",
      "Yauco            1\n",
      "Hoke             1\n",
      "Briscoe          1\n",
      "Name: County, Length: 1620, dtype: int64 \n",
      "\n",
      "No     5166\n",
      "Yes    4834\n",
      "Name: Port_modem, dtype: int64 \n",
      "\n",
      "4    3452\n",
      "3    3430\n",
      "2    1350\n",
      "5    1335\n",
      "1     221\n",
      "6     203\n",
      "7       9\n",
      "Name: item4, dtype: int64 \n",
      "\n",
      "32340    4\n",
      "75077    4\n",
      "44310    4\n",
      "61764    4\n",
      "16115    4\n",
      "        ..\n",
      "43788    1\n",
      "58579    1\n",
      "53526    1\n",
      "79104    1\n",
      "30523    1\n",
      "Name: Zip, Length: 8583, dtype: int64 \n",
      "\n",
      "No     5494\n",
      "Yes    4506\n",
      "Name: OnlineBackup, dtype: int64 \n",
      "\n",
      "3    3462\n",
      "4    3417\n",
      "2    1378\n",
      "5    1321\n",
      "1     206\n",
      "6     204\n",
      "7      12\n",
      "Name: item5, dtype: int64 \n",
      "\n",
      "K409198    1\n",
      "X300173    1\n",
      "M155745    1\n",
      "G126132    1\n",
      "O148559    1\n",
      "          ..\n",
      "F454437    1\n",
      "W845098    1\n",
      "P854487    1\n",
      "K983374    1\n",
      "T38070     1\n",
      "Name: Customer_id, Length: 10000, dtype: int64 \n",
      "\n",
      "Full Time     5992\n",
      "Part Time     1042\n",
      "Retired       1011\n",
      "Unemployed     991\n",
      "Student        964\n",
      "Name: Employment, dtype: int64 \n",
      "\n",
      "3    3435\n",
      "4    3410\n",
      "2    1424\n",
      "5    1313\n",
      "6     203\n",
      "1     202\n",
      "7      12\n",
      "8       1\n",
      "Name: item3, dtype: int64 \n",
      "\n",
      "3    3448\n",
      "4    3358\n",
      "2    1393\n",
      "5    1359\n",
      "1     224\n",
      "6     199\n",
      "7      19\n",
      "Name: item1, dtype: int64 \n",
      "\n",
      "-88.62818    4\n",
      "-83.43505    4\n",
      "-97.06273    4\n",
      "-80.46337    4\n",
      "-81.49710    4\n",
      "            ..\n",
      "-95.13148    1\n",
      "-81.80349    1\n",
      "-81.32795    1\n",
      "-82.10829    1\n",
      "-83.53648    1\n",
      "Name: Lng, Length: 8655, dtype: int64 \n",
      "\n",
      "Yes    9154\n",
      "No      846\n",
      "Name: Phone, dtype: int64 \n",
      "\n",
      "Regular High School Diploma                 2421\n",
      "Bachelor's Degree                           1703\n",
      "Some College, 1 or More Years, No Degree    1562\n",
      "9th Grade to 12th Grade, No Diploma          870\n",
      "Master's Degree                              764\n",
      "Associate's Degree                           760\n",
      "Some College, Less than 1 Year               652\n",
      "Nursery School to 8th Grade                  449\n",
      "GED or Alternative Credential                387\n",
      "Professional School Degree                   198\n",
      "No Schooling Completed                       118\n",
      "Doctorate Degree                             116\n",
      "Name: Education, dtype: int64 \n",
      "\n"
     ]
    }
   ],
   "source": [
    "all_cols = df.columns\n",
    "cat_cols = list(set(all_cols) - set(num_cols))\n",
    "df_cat = df[cat_cols]\n",
    "\n",
    "for col in cat_cols:\n",
    "    print(df[col].value_counts(), '\\n')"
   ]
  },
  {
   "cell_type": "markdown",
   "id": "1dc3adaf",
   "metadata": {},
   "source": [
    "From this data, we can see that we have several categorical columns. We can describe each as nominal or ordinal. After understanding the type of categorical variable, we can also choose a preferred encoding style ordinal encoding, label encoding, or one-hot encoding.\n",
    "\n",
    "The following columns have these categorical types and encoding preferences:\n",
    "\n",
    "* City : nominal type : label encoding\n",
    "* State : nominal type : label encoding\n",
    "* County : nominal type : label encoding\n",
    "* Area : nominal type : one-hot or label encoding\n",
    "* Timezone : nominal type : label encoding\n",
    "* Job : nominal type : label encoding\n",
    "* Education : ordinal type : ordinal encoding\n",
    "* Employment : nominal type : label encoding\n",
    "* Marital : nominal type : label encoding\n",
    "* Gender : ordinal type : ordinal or label encoding\n",
    "* Churn : ordinal type : ordinal or label encoding\n",
    "* Techie : ordinal type : ordinal or label encoding\n",
    "* Contract : nominal type : label or one-hot encoding\n",
    "* Port_modem : ordinal type : ordinal or label encoding\n",
    "* Tablet : ordinal type : ordinal or label encoding\n",
    "* InternetService : nominal type : label or one-hot encoding\n",
    "* Phone : ordinal type : ordinal or label encoding\n",
    "* Multiple : ordinal type : ordinal or label encoding\n",
    "* OnlineSecurity : ordinal type : ordinal or label encoding\n",
    "* OnlineBackup : ordinal type : ordinal or label encoding\n",
    "* DeviceProtection : ordinal type : ordinal or label encoding\n",
    "* TechSupport : ordinal type : ordinal or label encoding\n",
    "* StreamingTV : ordinal type : ordinal or label encoding\n",
    "* StreamingMovies : ordinal type : ordinal or label encoding\n",
    "* PaperlessBilling : ordinal type : ordinal or label encoding\n",
    "* PaymentMethod : nominal type : label or one-hot encoding\n",
    "\n",
    "##### Education Column\n",
    "The column 'Education' will be encoded ordinally into another column called 'Education_number.'"
   ]
  },
  {
   "cell_type": "code",
   "execution_count": 208,
   "id": "90429b60",
   "metadata": {},
   "outputs": [
    {
     "data": {
      "text/plain": [
       "array([\"Master's Degree\", 'Regular High School Diploma',\n",
       "       'Doctorate Degree', 'No Schooling Completed', \"Associate's Degree\",\n",
       "       \"Bachelor's Degree\", 'Some College, Less than 1 Year',\n",
       "       'GED or Alternative Credential',\n",
       "       'Some College, 1 or More Years, No Degree',\n",
       "       '9th Grade to 12th Grade, No Diploma',\n",
       "       'Nursery School to 8th Grade', 'Professional School Degree'],\n",
       "      dtype=object)"
      ]
     },
     "execution_count": 208,
     "metadata": {},
     "output_type": "execute_result"
    }
   ],
   "source": [
    "df['Education'].unique()"
   ]
  },
  {
   "cell_type": "code",
   "execution_count": 209,
   "id": "e1a2cc9d",
   "metadata": {},
   "outputs": [
    {
     "name": "stdout",
     "output_type": "stream",
     "text": [
      "4     2421\n",
      "9     1703\n",
      "6     1562\n",
      "2      870\n",
      "10     764\n",
      "8      760\n",
      "5      652\n",
      "1      449\n",
      "3      387\n",
      "7      198\n",
      "0      118\n",
      "11     116\n",
      "Name: Education_number, dtype: int64\n"
     ]
    }
   ],
   "source": [
    "df['Education_number'] = df['Education']\n",
    "edu_dict = {'Education_number': {'No Schooling Completed': 0, 'Nursery School to 8th Grade': 1, '9th Grade to 12th Grade, No Diploma': 2, 'GED or Alternative Credential': 3, 'Regular High School Diploma': 4, 'Some College, Less than 1 Year': 5, 'Some College, 1 or More Years, No Degree': 6, 'Professional School Degree': 7, 'Associate\\'s Degree': 8, 'Bachelor\\'s Degree': 9, 'Master\\'s Degree': 10, 'Doctorate Degree': 11}}\n",
    "df.replace(edu_dict, inplace=True)\n",
    "print(df['Education_number'].value_counts())"
   ]
  },
  {
   "cell_type": "markdown",
   "id": "326fd4c7",
   "metadata": {},
   "source": [
    "## Part III: Data Cleaning\n",
    "\n",
    "### D. Data-Cleaning Process\n",
    "\n",
    "#### D1. Findings from Data Quality Assessment:\n",
    "\n",
    "##### Potential missing values:\n",
    "\n",
    "* Children : 2495 missing values.\n",
    "* Age : 2475 missing values.\n",
    "* Income : 2490 missing values.\n",
    "* Techie : 2477 missing values.\n",
    "* Phone : 1026 missing values.\n",
    "* TechSupport : 991 missing values.\n",
    "* Tenure : 931 missing values.\n",
    "* Bandwidth_GB_Year : 1021 missing values.\n",
    "\n",
    "Here are counts for each column with missing data.\n",
    "\n",
    "##### Possible outliers:\n",
    "\n",
    "From our earlier assessment, there were many columns with outliers according to the interquartile range. The other columns that were not included did not need treatment and were retained. There were also a number of numerical columns that were categorical in nature, and not included. For example, the CaseOrder, Lat, Lng, items, and Zip columns did not need to be altered or deleted. Other reasons for retaining some numerical data as outliers are that the outlier data is desirable data like in email and the items columns. The following columns both had significant outliers according to inter-quartile range and visual inspection of their box plots.\n",
    "\n",
    "* Income\n",
    "* Outage_sec_perweek\n",
    "* Population\n",
    "* Yearly_equip_failure\n",
    "\n",
    "All of these columns had significant amounts of outliers.\n",
    "\n",
    "##### Inconsistencies in categorical data:\n",
    "\n",
    "There didn't appear to be any large inconsistencies with the categorical data. That being said, none of the categorical data was encoded, which can make it more difficult to analyze or use in statistical modeling.\n",
    "\n",
    "#### D2. Methods for Treating the Findings: \n",
    "\n",
    "Missing Values: Imputation\n",
    "\n",
    "- Imputation:\n",
    "    For values with universal or normal distribution imputation using the mean was used.\n",
    "    For values with skewed or bimodal distribution imputation using the median was used.\n",
    "    For categorical data imputation using the mode was used.\n",
    "    - Children\n",
    "    - Age\n",
    "    - Income\n",
    "    - Techie\n",
    "    - Phone\n",
    "    - TechSupport\n",
    "    - Tenure\n",
    "    - Bandwidth_GB_Year\n",
    "\n",
    "Outliers: Imputation, Retention, or Exclusion \n",
    "\n",
    "- Imputation:\n",
    "     For data that had a proportionally small amount of outliers where imputation of these outliers wouldn't significantly alter the distribution of data.\n",
    "    - Yearly_equip_perweek\n",
    "\n",
    "- Exclusion:\n",
    "    For data where it was difficult to label the data as either acceptable or not acceptable.\n",
    "    - Income\n",
    "    - Outage_sec_perweek\n",
    "    - Population\n",
    "\n",
    "Categorical variables: Standardization via ordinal encoding, label encoding, or one-hot encoding. The Education column was encoded using ordinal encoding in order to further analyze the data. The educational data was ordinal in nature, and for that reason, ordinal encoding was chosen.\n",
    "\n",
    "- Ordinal Encoding\n",
    "    - Education\n",
    "\n",
    "#### D3. Outcome Summary:\n",
    "\n",
    "- Reduced missing data impacting analysis via imputation of mean, median, or mode.\n",
    "- Controlled impact of outliers on statistical analysis via imputation, retention, or exclusion based on interquartile ranges.\n",
    "- Consistent and clean categorical data encoded via ordinal encoding.\n",
    "\n",
    "#### D4. See C4. for the Combined Assessment/Treatment Code"
   ]
  },
  {
   "cell_type": "markdown",
   "id": "7dd4f9d2",
   "metadata": {},
   "source": [
    "#### D5. Cleaned Data Set (CSV):"
   ]
  },
  {
   "cell_type": "markdown",
   "id": "9734873b",
   "metadata": {},
   "source": [
    "df.to_csv(r'C:\\Users\\Ryan\\OneDrive\\Desktop\\WGU_Study\\D206\\D206Final.csv')\n",
    "income_outliers.to_csv(r'C:\\Users\\Ryan\\OneDrive\\Desktop\\WGU_Study\\D206\\incomeOutliers.csv')\n",
    "outage_outliers.to_csv(r'C:\\Users\\Ryan\\OneDrive\\Desktop\\WGU_Study\\D206\\outageOutliers.csv')\n",
    "population_outliers.to_csv(r'C:\\Users\\Ryan\\OneDrive\\Desktop\\WGU_Study\\D206\\populationOutliers.csv')"
   ]
  },
  {
   "cell_type": "markdown",
   "id": "bcafc486",
   "metadata": {},
   "source": [
    "* See the attached CSV for cleaned data\n",
    "    * D206Final.csv\n",
    "    * incomeOutliers.csv\n",
    "    * outageOutliers.csv\n",
    "    * populationOutliers.csv"
   ]
  },
  {
   "cell_type": "markdown",
   "id": "50dde27e",
   "metadata": {},
   "source": [
    "#### D6. Limitations:\n",
    "\n",
    "Imputation Might Introduce Bias:\n",
    "\n",
    "Imputing missing values can introduce bias in the dataset. For instance, using the mean or median to fill in missing values can distort the original distribution of the data, especially if the missing values are not random.\n",
    "This bias can affect the results of statistical tests on this data, potentially leading to inaccurate conclusions for the business.\n",
    "\n",
    "Outlier Removal Might Lead to Loss of Valuable Information:\n",
    "\n",
    "Removing outliers can sometimes remove valuable insights from the data, especially if those outliers are genuine and not due to data entry errors or noise.\n",
    "Outliers can often indicate important phenomena or errors in the data collection process, and their removal can oversimplify the analysis.\n",
    "\n",
    "Effect of Limitations on Analysis:\n",
    "\n",
    "Biased imputation and outlier removal can skew the results of the analysis, leading to potentially misleading conclusions.\n",
    "The conclusions of the findings may be compromised if the data no longer accurately represents the true data population due to these manipulations.\n",
    "\n",
    "#### D7. Future Implications when Using this Data:\n",
    "\n",
    "Biased Imputation Can Skew Analysis Results:\n",
    "\n",
    "Future analyses using this dataset may inherit the same biases introduced by the imputation method. This can lead to errors in predictive modeling or statistical assessments.\n",
    "\n",
    "Removing Outliers Could Oversimplify the Model:\n",
    "\n",
    "By removing outliers, future models might miss unseen patterns or key insights that are crucial for understanding the broader context or more extreme cases.\n",
    "\n",
    "## Part IV\n",
    "\n",
    "### E. Principal Component Analysis (PCA)\n",
    "\n",
    "#### E1. Primary Component Analysis, Variables Used, Loading Matrix:\n",
    "\n",
    "##### Variables Selection:\n",
    "\n",
    "- For the Principal Component Analysis (PCA), I focused exclusively on quantitative (continuous) variables from the dataset, as PCA is most effective with continuous data that exhibits variance. The variables used included metrics like 'Age', 'Income', 'Yearly Equipment Failure', and other similar numerical features that are listed below.\n",
    "\n",
    "- After standardizing these continuous variables, I applied PCA to transform the data. The PCA loadings matrix was then generated, which illustrates how each original variable contributes to the principal components. The loading matrix (see below) is in a table with rows representing the principal components (PC0, PC1, etc.) and columns representing the original variables.\n",
    "\n",
    "- Of the entire csv/dataframe provided, 1 columns were used. For a PCA, the data must be numeric or continuous data as well as non-categorical in nature, and therefore, only 11 columns of the original data were eligible for a PCA. The following columns were used:"
   ]
  },
  {
   "cell_type": "code",
   "execution_count": 210,
   "id": "a607b880",
   "metadata": {},
   "outputs": [
    {
     "name": "stdout",
     "output_type": "stream",
     "text": [
      "<class 'pandas.core.frame.DataFrame'>\n",
      "RangeIndex: 10000 entries, 0 to 9999\n",
      "Data columns (total 11 columns):\n",
      " #   Column                Non-Null Count  Dtype  \n",
      "---  ------                --------------  -----  \n",
      " 0   Outage_sec_perweek    10000 non-null  float64\n",
      " 1   Income                10000 non-null  float64\n",
      " 2   Yearly_equip_failure  10000 non-null  int64  \n",
      " 3   Population            10000 non-null  int64  \n",
      " 4   MonthlyCharge         10000 non-null  float64\n",
      " 5   Age                   10000 non-null  int32  \n",
      " 6   Tenure                10000 non-null  float64\n",
      " 7   Bandwidth_GB_Year     10000 non-null  float64\n",
      " 8   Email                 10000 non-null  int64  \n",
      " 9   Contacts              10000 non-null  int64  \n",
      " 10  Children              10000 non-null  float64\n",
      "dtypes: float64(6), int32(1), int64(4)\n",
      "memory usage: 820.4 KB\n"
     ]
    }
   ],
   "source": [
    "df_num.info()"
   ]
  },
  {
   "cell_type": "markdown",
   "id": "7ef62628",
   "metadata": {},
   "source": [
    "###### Primary Component Analysis"
   ]
  },
  {
   "cell_type": "code",
   "execution_count": 211,
   "id": "1473a8df",
   "metadata": {},
   "outputs": [],
   "source": [
    "scaler = StandardScaler()\n",
    "df_num_scaled = scaler.fit_transform(df_num)"
   ]
  },
  {
   "cell_type": "code",
   "execution_count": 212,
   "id": "4d720222",
   "metadata": {},
   "outputs": [
    {
     "name": "stdout",
     "output_type": "stream",
     "text": [
      "<class 'pandas.core.frame.DataFrame'>\n",
      "RangeIndex: 10000 entries, 0 to 9999\n",
      "Data columns (total 11 columns):\n",
      " #   Column  Non-Null Count  Dtype  \n",
      "---  ------  --------------  -----  \n",
      " 0   pc1     10000 non-null  float64\n",
      " 1   pc2     10000 non-null  float64\n",
      " 2   pc3     10000 non-null  float64\n",
      " 3   pc4     10000 non-null  float64\n",
      " 4   pc5     10000 non-null  float64\n",
      " 5   pc6     10000 non-null  float64\n",
      " 6   pc7     10000 non-null  float64\n",
      " 7   pc8     10000 non-null  float64\n",
      " 8   pc9     10000 non-null  float64\n",
      " 9   pc10    10000 non-null  float64\n",
      " 10  pc11    10000 non-null  float64\n",
      "dtypes: float64(11)\n",
      "memory usage: 859.5 KB\n"
     ]
    }
   ],
   "source": [
    "pca = PCA(n_components=11)\n",
    "principal_components = pca.fit_transform(df_num_scaled)\n",
    "pca_df = pd.DataFrame(data=principal_components, columns=['pc' + str(i + 1) for i in range(len(pca.components_))])\n",
    "pca_df.info()"
   ]
  },
  {
   "cell_type": "code",
   "execution_count": 213,
   "id": "31b30a9e",
   "metadata": {
    "scrolled": false
   },
   "outputs": [
    {
     "name": "stdout",
     "output_type": "stream",
     "text": [
      "\n",
      "Explained Variance for the PCA\n",
      "\n",
      " [0.17244993 0.10289966 0.09527167 0.09300303 0.09126292 0.0905347\n",
      " 0.08983337 0.08921718 0.08750588 0.07865242 0.00936924] \n",
      "\n",
      "<class 'pandas.core.frame.DataFrame'>\n",
      "RangeIndex: 10000 entries, 0 to 9999\n",
      "Data columns (total 11 columns):\n",
      " #   Column  Non-Null Count  Dtype  \n",
      "---  ------  --------------  -----  \n",
      " 0   pc1     10000 non-null  float64\n",
      " 1   pc2     10000 non-null  float64\n",
      " 2   pc3     10000 non-null  float64\n",
      " 3   pc4     10000 non-null  float64\n",
      " 4   pc5     10000 non-null  float64\n",
      " 5   pc6     10000 non-null  float64\n",
      " 6   pc7     10000 non-null  float64\n",
      " 7   pc8     10000 non-null  float64\n",
      " 8   pc9     10000 non-null  float64\n",
      " 9   pc10    10000 non-null  float64\n",
      " 10  pc11    10000 non-null  float64\n",
      "dtypes: float64(11)\n",
      "memory usage: 859.5 KB\n",
      "\n",
      "PCA Dataframe Head\n",
      "\n",
      " None\n"
     ]
    }
   ],
   "source": [
    "print('\\nExplained Variance for the PCA\\n\\n', pca.explained_variance_ratio_, '\\n')\n",
    "print('\\nPCA Dataframe Head\\n\\n', pca_df.info())"
   ]
  },
  {
   "cell_type": "markdown",
   "id": "6d59b59d",
   "metadata": {},
   "source": [
    "##### Loading Matrix"
   ]
  },
  {
   "cell_type": "code",
   "execution_count": 214,
   "id": "e3143dcf",
   "metadata": {
    "scrolled": true
   },
   "outputs": [
    {
     "name": "stdout",
     "output_type": "stream",
     "text": [
      "Loading Matrix\n",
      "\n",
      "                            PC1       PC2       PC3       PC4       PC5  \\\n",
      "Outage_sec_perweek    0.022599  0.006197  0.015836 -0.000410  0.045221   \n",
      "Income                0.706399 -0.004281  0.058207 -0.055172  0.696325   \n",
      "Yearly_equip_failure  0.021625  0.241758  0.302058 -0.317127 -0.092961   \n",
      "Population           -0.010069  0.178934  0.349379 -0.384422  0.040624   \n",
      "MonthlyCharge         0.014757  0.767896 -0.574507 -0.037651  0.033253   \n",
      "Age                   0.057495  0.414818  0.515659  0.658501 -0.053477   \n",
      "Tenure                0.053024  0.000105  0.028153  0.434816  0.012068   \n",
      "Bandwidth_GB_Year     0.016099 -0.210840  0.167224 -0.050178 -0.068953   \n",
      "Email                 0.052074  0.313780  0.376851 -0.349257 -0.151394   \n",
      "Contacts              0.700439 -0.069494 -0.127730  0.000863 -0.684597   \n",
      "Children              0.000612  0.001165 -0.002464 -0.000976 -0.048335   \n",
      "\n",
      "                           PC6       PC7       PC8       PC9      PC10  \\\n",
      "Outage_sec_perweek   -0.012381  0.704915  0.706837 -0.021292  0.004533   \n",
      "Income               -0.047600 -0.058213 -0.009361  0.057703 -0.007842   \n",
      "Yearly_equip_failure -0.364657 -0.018176  0.002069 -0.335480 -0.433968   \n",
      "Population            0.519582 -0.004509 -0.016804 -0.526402  0.330427   \n",
      "MonthlyCharge        -0.102786 -0.003199  0.001747 -0.057022  0.246842   \n",
      "Age                   0.199533 -0.000671 -0.003915  0.171801  0.091689   \n",
      "Tenure               -0.439573 -0.017972 -0.011493 -0.602346 -0.090491   \n",
      "Bandwidth_GB_Year    -0.480542 -0.015981  0.004921 -0.006356  0.789002   \n",
      "Email                -0.323942  0.010902 -0.007326  0.455852 -0.048146   \n",
      "Contacts              0.121304  0.038116 -0.012702 -0.055768  0.005481   \n",
      "Children              0.021550 -0.705120  0.706836  0.005589 -0.002978   \n",
      "\n",
      "                          PC11  \n",
      "Outage_sec_perweek   -0.001874  \n",
      "Income                0.023430  \n",
      "Yearly_equip_failure  0.553580  \n",
      "Population           -0.199589  \n",
      "MonthlyCharge         0.052694  \n",
      "Age                   0.210905  \n",
      "Tenure               -0.492439  \n",
      "Bandwidth_GB_Year     0.257462  \n",
      "Email                -0.544687  \n",
      "Contacts              0.009920  \n",
      "Children             -0.018410  \n"
     ]
    }
   ],
   "source": [
    "loading_matrix = pd.DataFrame(pca.components_, columns=[f'PC{i + 1}' for i in range(len(pca_df.columns))], index=df_num.columns)\n",
    "print('Loading Matrix\\n\\n', loading_matrix)"
   ]
  },
  {
   "cell_type": "code",
   "execution_count": 215,
   "id": "83700544",
   "metadata": {},
   "outputs": [
    {
     "name": "stdout",
     "output_type": "stream",
     "text": [
      "Eigenvalues of PC1 through PC11: \n",
      " \n",
      " [1.89713896 1.13200948 1.04809317 1.02313568 1.00399247 0.99598125\n",
      " 0.98826592 0.98148714 0.96266098 0.86526309 0.10307196]\n",
      "\n",
      "Primary Components to keep:  5\n"
     ]
    }
   ],
   "source": [
    "eigenvalues = pca.explained_variance_\n",
    "components_to_keep = sum(eigenvalue > 1 for eigenvalue in eigenvalues)\n",
    "print('Eigenvalues of PC1 through PC11: \\n \\n', eigenvalues)\n",
    "print('\\nPrimary Components to keep: ', components_to_keep)"
   ]
  },
  {
   "cell_type": "markdown",
   "id": "961eed4c",
   "metadata": {},
   "source": [
    "#### E2. Primary Component Retention:\n",
    "\n",
    "- In our analysis, we conducted a Principal Component Analysis (PCA) in order to reduce the dimensionality of our dataset. However, not all components in the PCA are equally important. To determine the correct number of components to retain, we applied the Kaiser method, with which we only keep those components with eigenvalues greater than 1. This approach aims to retain components that account for more variance than an average single variable in the dataset. Based on this criteria, we decided to keep the first five principal components, as they are the most significant in terms of explained variance. These components effectively condense the information in the data while still capturing the majority of its variability.\n",
    "\n",
    "    - The following Principal Components are most important to retain:\n",
    "        - PC1\n",
    "        - PC2\n",
    "        - PC3\n",
    "        - PC4\n",
    "        - PC5"
   ]
  },
  {
   "cell_type": "markdown",
   "id": "f32e29cd",
   "metadata": {},
   "source": [
    "#### E3. Organizational Benefit from PCA:\n",
    "\n",
    "- The PCA results offer multiple benefits to the organization:\n",
    "\n",
    "        - Dimensionality Reduction: Reduces the complexity of data, making it more manageable for analysis. In our case, reducing numerous variables to a few principal components simplifies data visualization and interpretation.\n",
    "        \n",
    "        - Reducing Overfitting: PCA helps in reducing overfitting by eliminating redundant and less informative features. This leads to models that are better at generalizing to new data, as they learn from the most variance-explaining components rather than noise.\n",
    "\n",
    "        - Addressing Multicollinearity: PCA transforms correlated variables into a set of uncorrelated principal components, effectively resolving issues of multicollinearity. This ensures independence among predictors, which is crucial for the reliability of linear models.\n",
    "\n",
    "        - Improved Data Visualization: Lower-dimensional data is easier to visualize and understand. This can aid in discovering patterns and relationships that are not apparent in more complex data.\n",
    "\n",
    "        - Enhanced Model Performance: By focusing on principal components, machine learning models can be more efficient and less prone to overfitting.\n",
    "\n",
    "        - Noise Reduction: PCA can help in filtering out noise from the data by focusing on components that capture the most variance.\n",
    "\n",
    "\n",
    "### F. Panopto Recording:\n",
    "\n",
    "    * See attached Panopto Recording\n",
    "    \n",
    "        * D206 Final Recording\n",
    "\n",
    "### G. Third-Party Code References:\n",
    "\n",
    "No third-party code was used in the creation of this project.\n",
    "\n",
    "### H. Source References:\n",
    "\n",
    "No external sources were used in the creation of the content of this project."
   ]
  }
 ],
 "metadata": {
  "kernelspec": {
   "display_name": "Python 3 (ipykernel)",
   "language": "python",
   "name": "python3"
  },
  "language_info": {
   "codemirror_mode": {
    "name": "ipython",
    "version": 3
   },
   "file_extension": ".py",
   "mimetype": "text/x-python",
   "name": "python",
   "nbconvert_exporter": "python",
   "pygments_lexer": "ipython3",
   "version": "3.11.4"
  }
 },
 "nbformat": 4,
 "nbformat_minor": 5
}
